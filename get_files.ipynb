{
 "cells": [
  {
   "cell_type": "code",
   "execution_count": 87,
   "metadata": {},
   "outputs": [],
   "source": [
    "import pandas as pd\n",
    "from pandas import DataFrame"
   ]
  },
  {
   "cell_type": "code",
   "execution_count": 88,
   "metadata": {},
   "outputs": [
    {
     "name": "stdout",
     "output_type": "stream",
     "text": [
      "     Mês/Ano  Year  Value\n",
      "0    Janeiro  2024   0.97\n",
      "1  Fevereiro  2024   0.80\n",
      "2      Março  2024   0.83\n",
      "3      Abril  2024   0.89\n",
      "4       Maio  2024   0.83\n"
     ]
    }
   ],
   "source": [
    "def process_selic_data(url: str) -> DataFrame:\n",
    "    #Read the tables from url\n",
    "    tables = pd.read_html(url)\n",
    "    final_data = []\n",
    "\n",
    "    #Process relevant data\n",
    "    for i,table in enumerate(tables[1:5]):\n",
    "\n",
    "        table.columns = table.iloc[0]\n",
    "        table = table[1:].reset_index(drop=True)\n",
    "\n",
    "        table.fillna(0, inplace=True)\n",
    "        table = table.replace('%', '', regex=True)\n",
    "        table = table.replace(',', '.', regex=True)\n",
    "\n",
    "        table_melted = table.melt(id_vars=['Mês/Ano'],var_name='Year',value_name='Value')\n",
    "        final_data.append(table_melted)\n",
    "\n",
    "    # Concatenate all data into one DataFrame\n",
    "    final_df = pd.concat(final_data, ignore_index=True)\n",
    "    final_df[['Year','Value']] = final_df[['Year','Value']].apply(pd.to_numeric)\n",
    "    final_df.sort_values(by=['Year'], inplace=True, ascending=False)\n",
    "    final_df.reset_index(drop=True, inplace=True)\n",
    "\n",
    "    # Display the result\n",
    "    return(final_df)\n",
    "\n"
   ]
  },
  {
   "cell_type": "code",
   "execution_count": null,
   "metadata": {},
   "outputs": [],
   "source": []
  }
 ],
 "metadata": {
  "kernelspec": {
   "display_name": "Python 3",
   "language": "python",
   "name": "python3"
  },
  "language_info": {
   "codemirror_mode": {
    "name": "ipython",
    "version": 3
   },
   "file_extension": ".py",
   "mimetype": "text/x-python",
   "name": "python",
   "nbconvert_exporter": "python",
   "pygments_lexer": "ipython3",
   "version": "3.12.7"
  }
 },
 "nbformat": 4,
 "nbformat_minor": 2
}
